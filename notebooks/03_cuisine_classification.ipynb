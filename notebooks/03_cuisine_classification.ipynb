{
 "cells": [
  {
   "cell_type": "markdown",
   "id": "98c28403",
   "metadata": {},
   "source": [
    "# Restaurant Cuisine Classification Project\n",
    "\n",
    "## Objective:\n",
    "The goal of this project is to develop a machine learning model to classify restaurants based on their cuisines. The dataset contains various features such as restaurant location, average cost, ratings, and more. The target variable, \"Cuisines\", is multi-label, meaning a restaurant can belong to multiple cuisines.\n",
    "\n",
    "## Steps:\n",
    "1. **Preprocess the data**: Handle missing values, encode categorical variables, and process the multi-label \"Cuisines\".\n",
    "2. **Split the data**: Divide the dataset into training and testing sets.\n",
    "3. **Train a model**: Choose a classification algorithm (Random Forest, Logistic Regression, etc.) and train it on the data.\n",
    "4. **Evaluate the model**: Use classification metrics like accuracy, precision, recall, and F1-score to evaluate the model's performance.\n",
    "5. **Analyze performance**: Identify challenges or biases in predicting certain cuisines.\n",
    "\n",
    "## Approach:\n",
    "Since \"Cuisines\" is a multi-label target, the model will be trained using multi-label classification techniques such as Random Forest or Logistic Regression with OneVsRest or MultiOutputClassifier."
   ]
  },
  {
   "cell_type": "markdown",
   "id": "c4e98367",
   "metadata": {},
   "source": [
    "## Import Required Packages"
   ]
  },
  {
   "cell_type": "code",
   "execution_count": null,
   "id": "a30faf0c",
   "metadata": {},
   "outputs": [],
   "source": [
    "import pandas as pd\n",
    "from sklearn.preprocessing import MultiLabelBinarizer\n",
    "from sklearn.multiclass import OneVsRestClassifier\n",
    "from sklearn.multioutput import MultiOutputClassifier\n",
    "from sklearn.ensemble import RandomForestClassifier\n",
    "from sklearn.linear_model import LogisticRegression\n",
    "from sklearn.model_selection import cross_val_score\n",
    "from sklearn.preprocessing import MinMaxScaler\n",
    "import xgboost as xgb\n",
    "import warnings\n",
    "warnings.filterwarnings(\"ignore\")"
   ]
  },
  {
   "cell_type": "markdown",
   "id": "7a5b228a",
   "metadata": {},
   "source": [
    "## Load Dataset"
   ]
  },
  {
   "cell_type": "code",
   "execution_count": 44,
   "id": "3bd7eb00",
   "metadata": {},
   "outputs": [
    {
     "data": {
      "text/html": [
       "<div>\n",
       "<style scoped>\n",
       "    .dataframe tbody tr th:only-of-type {\n",
       "        vertical-align: middle;\n",
       "    }\n",
       "\n",
       "    .dataframe tbody tr th {\n",
       "        vertical-align: top;\n",
       "    }\n",
       "\n",
       "    .dataframe thead th {\n",
       "        text-align: right;\n",
       "    }\n",
       "</style>\n",
       "<table border=\"1\" class=\"dataframe\">\n",
       "  <thead>\n",
       "    <tr style=\"text-align: right;\">\n",
       "      <th></th>\n",
       "      <th>Restaurant Name</th>\n",
       "      <th>City</th>\n",
       "      <th>Address</th>\n",
       "      <th>Locality</th>\n",
       "      <th>Locality Verbose</th>\n",
       "      <th>Longitude</th>\n",
       "      <th>Latitude</th>\n",
       "      <th>Cuisines</th>\n",
       "      <th>Average Cost for two</th>\n",
       "      <th>Currency</th>\n",
       "      <th>Has Table booking</th>\n",
       "      <th>Has Online delivery</th>\n",
       "      <th>Is delivering now</th>\n",
       "      <th>Price range</th>\n",
       "      <th>Aggregate rating</th>\n",
       "      <th>Votes</th>\n",
       "      <th>Country Name</th>\n",
       "    </tr>\n",
       "  </thead>\n",
       "  <tbody>\n",
       "    <tr>\n",
       "      <th>0</th>\n",
       "      <td>Le Petit Souffle</td>\n",
       "      <td>73</td>\n",
       "      <td>Third Floor, Century City Mall, Kalayaan Avenu...</td>\n",
       "      <td>Century City Mall, Poblacion, Makati City</td>\n",
       "      <td>Century City Mall, Poblacion, Makati City, Mak...</td>\n",
       "      <td>121.027535</td>\n",
       "      <td>14.565443</td>\n",
       "      <td>French, Japanese, Desserts</td>\n",
       "      <td>1100</td>\n",
       "      <td>0</td>\n",
       "      <td>1</td>\n",
       "      <td>0</td>\n",
       "      <td>0</td>\n",
       "      <td>3</td>\n",
       "      <td>4.8</td>\n",
       "      <td>314</td>\n",
       "      <td>5</td>\n",
       "    </tr>\n",
       "    <tr>\n",
       "      <th>1</th>\n",
       "      <td>Izakaya Kikufuji</td>\n",
       "      <td>73</td>\n",
       "      <td>Little Tokyo, 2277 Chino Roces Avenue, Legaspi...</td>\n",
       "      <td>Little Tokyo, Legaspi Village, Makati City</td>\n",
       "      <td>Little Tokyo, Legaspi Village, Makati City, Ma...</td>\n",
       "      <td>121.014101</td>\n",
       "      <td>14.553708</td>\n",
       "      <td>Japanese</td>\n",
       "      <td>1200</td>\n",
       "      <td>0</td>\n",
       "      <td>1</td>\n",
       "      <td>0</td>\n",
       "      <td>0</td>\n",
       "      <td>3</td>\n",
       "      <td>4.5</td>\n",
       "      <td>591</td>\n",
       "      <td>5</td>\n",
       "    </tr>\n",
       "    <tr>\n",
       "      <th>2</th>\n",
       "      <td>Heat - Edsa Shangri-La</td>\n",
       "      <td>75</td>\n",
       "      <td>Edsa Shangri-La, 1 Garden Way, Ortigas, Mandal...</td>\n",
       "      <td>Edsa Shangri-La, Ortigas, Mandaluyong City</td>\n",
       "      <td>Edsa Shangri-La, Ortigas, Mandaluyong City, Ma...</td>\n",
       "      <td>121.056831</td>\n",
       "      <td>14.581404</td>\n",
       "      <td>Seafood, Asian, Filipino, Indian</td>\n",
       "      <td>4000</td>\n",
       "      <td>0</td>\n",
       "      <td>1</td>\n",
       "      <td>0</td>\n",
       "      <td>0</td>\n",
       "      <td>4</td>\n",
       "      <td>4.4</td>\n",
       "      <td>270</td>\n",
       "      <td>5</td>\n",
       "    </tr>\n",
       "    <tr>\n",
       "      <th>3</th>\n",
       "      <td>Ooma</td>\n",
       "      <td>75</td>\n",
       "      <td>Third Floor, Mega Fashion Hall, SM Megamall, O...</td>\n",
       "      <td>SM Megamall, Ortigas, Mandaluyong City</td>\n",
       "      <td>SM Megamall, Ortigas, Mandaluyong City, Mandal...</td>\n",
       "      <td>121.056475</td>\n",
       "      <td>14.585318</td>\n",
       "      <td>Japanese, Sushi</td>\n",
       "      <td>1500</td>\n",
       "      <td>0</td>\n",
       "      <td>0</td>\n",
       "      <td>0</td>\n",
       "      <td>0</td>\n",
       "      <td>4</td>\n",
       "      <td>4.9</td>\n",
       "      <td>365</td>\n",
       "      <td>5</td>\n",
       "    </tr>\n",
       "    <tr>\n",
       "      <th>4</th>\n",
       "      <td>Sambo Kojin</td>\n",
       "      <td>75</td>\n",
       "      <td>Third Floor, Mega Atrium, SM Megamall, Ortigas...</td>\n",
       "      <td>SM Megamall, Ortigas, Mandaluyong City</td>\n",
       "      <td>SM Megamall, Ortigas, Mandaluyong City, Mandal...</td>\n",
       "      <td>121.057508</td>\n",
       "      <td>14.584450</td>\n",
       "      <td>Japanese, Korean</td>\n",
       "      <td>1500</td>\n",
       "      <td>0</td>\n",
       "      <td>1</td>\n",
       "      <td>0</td>\n",
       "      <td>0</td>\n",
       "      <td>4</td>\n",
       "      <td>4.8</td>\n",
       "      <td>229</td>\n",
       "      <td>5</td>\n",
       "    </tr>\n",
       "  </tbody>\n",
       "</table>\n",
       "</div>"
      ],
      "text/plain": [
       "          Restaurant Name  City  \\\n",
       "0        Le Petit Souffle    73   \n",
       "1        Izakaya Kikufuji    73   \n",
       "2  Heat - Edsa Shangri-La    75   \n",
       "3                    Ooma    75   \n",
       "4             Sambo Kojin    75   \n",
       "\n",
       "                                             Address  \\\n",
       "0  Third Floor, Century City Mall, Kalayaan Avenu...   \n",
       "1  Little Tokyo, 2277 Chino Roces Avenue, Legaspi...   \n",
       "2  Edsa Shangri-La, 1 Garden Way, Ortigas, Mandal...   \n",
       "3  Third Floor, Mega Fashion Hall, SM Megamall, O...   \n",
       "4  Third Floor, Mega Atrium, SM Megamall, Ortigas...   \n",
       "\n",
       "                                     Locality  \\\n",
       "0   Century City Mall, Poblacion, Makati City   \n",
       "1  Little Tokyo, Legaspi Village, Makati City   \n",
       "2  Edsa Shangri-La, Ortigas, Mandaluyong City   \n",
       "3      SM Megamall, Ortigas, Mandaluyong City   \n",
       "4      SM Megamall, Ortigas, Mandaluyong City   \n",
       "\n",
       "                                    Locality Verbose   Longitude   Latitude  \\\n",
       "0  Century City Mall, Poblacion, Makati City, Mak...  121.027535  14.565443   \n",
       "1  Little Tokyo, Legaspi Village, Makati City, Ma...  121.014101  14.553708   \n",
       "2  Edsa Shangri-La, Ortigas, Mandaluyong City, Ma...  121.056831  14.581404   \n",
       "3  SM Megamall, Ortigas, Mandaluyong City, Mandal...  121.056475  14.585318   \n",
       "4  SM Megamall, Ortigas, Mandaluyong City, Mandal...  121.057508  14.584450   \n",
       "\n",
       "                           Cuisines  Average Cost for two  Currency  \\\n",
       "0        French, Japanese, Desserts                  1100         0   \n",
       "1                          Japanese                  1200         0   \n",
       "2  Seafood, Asian, Filipino, Indian                  4000         0   \n",
       "3                   Japanese, Sushi                  1500         0   \n",
       "4                  Japanese, Korean                  1500         0   \n",
       "\n",
       "   Has Table booking  Has Online delivery  Is delivering now  Price range  \\\n",
       "0                  1                    0                  0            3   \n",
       "1                  1                    0                  0            3   \n",
       "2                  1                    0                  0            4   \n",
       "3                  0                    0                  0            4   \n",
       "4                  1                    0                  0            4   \n",
       "\n",
       "   Aggregate rating  Votes  Country Name  \n",
       "0               4.8    314             5  \n",
       "1               4.5    591             5  \n",
       "2               4.4    270             5  \n",
       "3               4.9    365             5  \n",
       "4               4.8    229             5  "
      ]
     },
     "execution_count": 44,
     "metadata": {},
     "output_type": "execute_result"
    }
   ],
   "source": [
    "data = pd.read_csv(\"../data/processed/data.csv\")\n",
    "data.head()"
   ]
  },
  {
   "cell_type": "markdown",
   "id": "6083e3de",
   "metadata": {},
   "source": [
    "## Extra Preprocessing"
   ]
  },
  {
   "cell_type": "markdown",
   "id": "b76eb51e",
   "metadata": {},
   "source": [
    "Drop irrelevant features"
   ]
  },
  {
   "cell_type": "code",
   "execution_count": 45,
   "id": "61871288",
   "metadata": {},
   "outputs": [
    {
     "data": {
      "text/html": [
       "<div>\n",
       "<style scoped>\n",
       "    .dataframe tbody tr th:only-of-type {\n",
       "        vertical-align: middle;\n",
       "    }\n",
       "\n",
       "    .dataframe tbody tr th {\n",
       "        vertical-align: top;\n",
       "    }\n",
       "\n",
       "    .dataframe thead th {\n",
       "        text-align: right;\n",
       "    }\n",
       "</style>\n",
       "<table border=\"1\" class=\"dataframe\">\n",
       "  <thead>\n",
       "    <tr style=\"text-align: right;\">\n",
       "      <th></th>\n",
       "      <th>City</th>\n",
       "      <th>Longitude</th>\n",
       "      <th>Latitude</th>\n",
       "      <th>Cuisines</th>\n",
       "      <th>Average Cost for two</th>\n",
       "      <th>Currency</th>\n",
       "      <th>Has Table booking</th>\n",
       "      <th>Has Online delivery</th>\n",
       "      <th>Is delivering now</th>\n",
       "      <th>Price range</th>\n",
       "      <th>Aggregate rating</th>\n",
       "      <th>Votes</th>\n",
       "      <th>Country Name</th>\n",
       "    </tr>\n",
       "  </thead>\n",
       "  <tbody>\n",
       "    <tr>\n",
       "      <th>0</th>\n",
       "      <td>73</td>\n",
       "      <td>121.027535</td>\n",
       "      <td>14.565443</td>\n",
       "      <td>French, Japanese, Desserts</td>\n",
       "      <td>1100</td>\n",
       "      <td>0</td>\n",
       "      <td>1</td>\n",
       "      <td>0</td>\n",
       "      <td>0</td>\n",
       "      <td>3</td>\n",
       "      <td>4.8</td>\n",
       "      <td>314</td>\n",
       "      <td>5</td>\n",
       "    </tr>\n",
       "    <tr>\n",
       "      <th>1</th>\n",
       "      <td>73</td>\n",
       "      <td>121.014101</td>\n",
       "      <td>14.553708</td>\n",
       "      <td>Japanese</td>\n",
       "      <td>1200</td>\n",
       "      <td>0</td>\n",
       "      <td>1</td>\n",
       "      <td>0</td>\n",
       "      <td>0</td>\n",
       "      <td>3</td>\n",
       "      <td>4.5</td>\n",
       "      <td>591</td>\n",
       "      <td>5</td>\n",
       "    </tr>\n",
       "    <tr>\n",
       "      <th>2</th>\n",
       "      <td>75</td>\n",
       "      <td>121.056831</td>\n",
       "      <td>14.581404</td>\n",
       "      <td>Seafood, Asian, Filipino, Indian</td>\n",
       "      <td>4000</td>\n",
       "      <td>0</td>\n",
       "      <td>1</td>\n",
       "      <td>0</td>\n",
       "      <td>0</td>\n",
       "      <td>4</td>\n",
       "      <td>4.4</td>\n",
       "      <td>270</td>\n",
       "      <td>5</td>\n",
       "    </tr>\n",
       "    <tr>\n",
       "      <th>3</th>\n",
       "      <td>75</td>\n",
       "      <td>121.056475</td>\n",
       "      <td>14.585318</td>\n",
       "      <td>Japanese, Sushi</td>\n",
       "      <td>1500</td>\n",
       "      <td>0</td>\n",
       "      <td>0</td>\n",
       "      <td>0</td>\n",
       "      <td>0</td>\n",
       "      <td>4</td>\n",
       "      <td>4.9</td>\n",
       "      <td>365</td>\n",
       "      <td>5</td>\n",
       "    </tr>\n",
       "    <tr>\n",
       "      <th>4</th>\n",
       "      <td>75</td>\n",
       "      <td>121.057508</td>\n",
       "      <td>14.584450</td>\n",
       "      <td>Japanese, Korean</td>\n",
       "      <td>1500</td>\n",
       "      <td>0</td>\n",
       "      <td>1</td>\n",
       "      <td>0</td>\n",
       "      <td>0</td>\n",
       "      <td>4</td>\n",
       "      <td>4.8</td>\n",
       "      <td>229</td>\n",
       "      <td>5</td>\n",
       "    </tr>\n",
       "  </tbody>\n",
       "</table>\n",
       "</div>"
      ],
      "text/plain": [
       "   City   Longitude   Latitude                          Cuisines  \\\n",
       "0    73  121.027535  14.565443        French, Japanese, Desserts   \n",
       "1    73  121.014101  14.553708                          Japanese   \n",
       "2    75  121.056831  14.581404  Seafood, Asian, Filipino, Indian   \n",
       "3    75  121.056475  14.585318                   Japanese, Sushi   \n",
       "4    75  121.057508  14.584450                  Japanese, Korean   \n",
       "\n",
       "   Average Cost for two  Currency  Has Table booking  Has Online delivery  \\\n",
       "0                  1100         0                  1                    0   \n",
       "1                  1200         0                  1                    0   \n",
       "2                  4000         0                  1                    0   \n",
       "3                  1500         0                  0                    0   \n",
       "4                  1500         0                  1                    0   \n",
       "\n",
       "   Is delivering now  Price range  Aggregate rating  Votes  Country Name  \n",
       "0                  0            3               4.8    314             5  \n",
       "1                  0            3               4.5    591             5  \n",
       "2                  0            4               4.4    270             5  \n",
       "3                  0            4               4.9    365             5  \n",
       "4                  0            4               4.8    229             5  "
      ]
     },
     "execution_count": 45,
     "metadata": {},
     "output_type": "execute_result"
    }
   ],
   "source": [
    "data = data.drop(columns=['Restaurant Name', 'Address', 'Locality', 'Locality Verbose'])\n",
    "data.head()"
   ]
  },
  {
   "cell_type": "markdown",
   "id": "83b1d601",
   "metadata": {},
   "source": [
    "Multi-label encoding"
   ]
  },
  {
   "cell_type": "code",
   "execution_count": 46,
   "id": "9a89c1f6",
   "metadata": {},
   "outputs": [
    {
     "data": {
      "text/plain": [
       "(9542, 52)"
      ]
     },
     "execution_count": 46,
     "metadata": {},
     "output_type": "execute_result"
    }
   ],
   "source": [
    "encoder = MultiLabelBinarizer()\n",
    "y = encoder.fit_transform(data['Cuisines'])\n",
    "y.shape"
   ]
  },
  {
   "cell_type": "code",
   "execution_count": 47,
   "id": "4c164662",
   "metadata": {},
   "outputs": [
    {
     "data": {
      "text/plain": [
       "(9542, 12)"
      ]
     },
     "execution_count": 47,
     "metadata": {},
     "output_type": "execute_result"
    }
   ],
   "source": [
    "X = data.drop(columns=['Cuisines'])\n",
    "X.shape"
   ]
  },
  {
   "cell_type": "markdown",
   "id": "4406f421",
   "metadata": {},
   "source": [
    "Data scaling"
   ]
  },
  {
   "cell_type": "code",
   "execution_count": 48,
   "id": "d0640314",
   "metadata": {},
   "outputs": [
    {
     "data": {
      "text/plain": [
       "(9542, 12)"
      ]
     },
     "execution_count": 48,
     "metadata": {},
     "output_type": "execute_result"
    }
   ],
   "source": [
    "scaler = MinMaxScaler()\n",
    "X = scaler.fit_transform(X)\n",
    "X.shape"
   ]
  },
  {
   "cell_type": "markdown",
   "id": "9d07718e",
   "metadata": {},
   "source": [
    "## Training Models"
   ]
  },
  {
   "cell_type": "markdown",
   "id": "b4ba6b1a",
   "metadata": {},
   "source": [
    "Logistic regression"
   ]
  },
  {
   "cell_type": "code",
   "execution_count": 49,
   "id": "0d2b9e3a",
   "metadata": {},
   "outputs": [
    {
     "name": "stdout",
     "output_type": "stream",
     "text": [
      "Cross-validation scores: [0.62912391 0.7334589  0.73204207 0.72778758 0.7415092  0.73495879\n",
      " 0.74316439 0.72187447 0.72543826 0.69240648]\n",
      "Mean score: 0.7182\n"
     ]
    }
   ],
   "source": [
    "# Initialize the Logistic Regression model\n",
    "lr = LogisticRegression()\n",
    "\n",
    "# Wrap it with OneVsRestClassifier for multi-label classification\n",
    "lr_model = OneVsRestClassifier(lr)\n",
    "\n",
    "# Perform cross-validation\n",
    "# Cross-validation scores for multi-label classification\n",
    "cv_scores = cross_val_score(lr_model, X, y, cv=10, scoring='f1_micro')\n",
    "\n",
    "# Print the cross-validation scores\n",
    "print(f\"Cross-validation scores: {cv_scores}\")\n",
    "print(f\"Mean score: {cv_scores.mean():.4f}\")"
   ]
  },
  {
   "cell_type": "markdown",
   "id": "d8b04b68",
   "metadata": {},
   "source": [
    "XGBoost"
   ]
  },
  {
   "cell_type": "code",
   "execution_count": 50,
   "id": "aeee29f4",
   "metadata": {},
   "outputs": [
    {
     "name": "stdout",
     "output_type": "stream",
     "text": [
      "Cross-validation scores: [0.59108328 0.71942682 0.72036297 0.71744285 0.73751698 0.72276622\n",
      " 0.7412605  0.70491075 0.72108959 0.6740632 ]\n",
      "Mean score: 0.7050\n"
     ]
    }
   ],
   "source": [
    "# Initialize the XGBoost model\n",
    "xgb_model = xgb.XGBClassifier(use_label_encoder=False, eval_metric='mlogloss')\n",
    "\n",
    "# Use MultiOutputClassifier to handle multi-label classification\n",
    "xgb_multi_model = MultiOutputClassifier(xgb_model)\n",
    "\n",
    "# Perform cross-validation\n",
    "# Cross-validation scores for multi-label classification\n",
    "cv_scores = cross_val_score(xgb_multi_model, X, y, cv=10, scoring='f1_micro')\n",
    "\n",
    "# Print the cross-validation scores\n",
    "print(f\"Cross-validation scores: {cv_scores}\")\n",
    "print(f\"Mean score: {cv_scores.mean():.4f}\")"
   ]
  },
  {
   "cell_type": "markdown",
   "id": "f5cba0a6",
   "metadata": {},
   "source": [
    "Random Forest"
   ]
  },
  {
   "cell_type": "code",
   "execution_count": 51,
   "id": "afb416ad",
   "metadata": {},
   "outputs": [
    {
     "name": "stdout",
     "output_type": "stream",
     "text": [
      "Cross-validation scores: [0.61459462 0.71529392 0.7309059  0.71962856 0.7390057  0.7202714\n",
      " 0.74175054 0.70602356 0.71402676 0.68501476]\n",
      "Mean score: 0.7087\n"
     ]
    }
   ],
   "source": [
    "# Initialize the XGBoost model\n",
    "rf_model = RandomForestClassifier(random_state=42)\n",
    "\n",
    "# Use MultiOutputClassifier to handle multi-label classification\n",
    "rf_multi_model = MultiOutputClassifier(rf_model)\n",
    "\n",
    "# Perform cross-validation\n",
    "# Cross-validation scores for multi-label classification\n",
    "cv_scores = cross_val_score(rf_multi_model, X, y, cv=10, scoring='f1_micro')\n",
    "\n",
    "# Print the cross-validation scores\n",
    "print(f\"Cross-validation scores: {cv_scores}\")\n",
    "print(f\"Mean score: {cv_scores.mean():.4f}\")"
   ]
  }
 ],
 "metadata": {
  "kernelspec": {
   "display_name": "Python 3",
   "language": "python",
   "name": "python3"
  },
  "language_info": {
   "codemirror_mode": {
    "name": "ipython",
    "version": 3
   },
   "file_extension": ".py",
   "mimetype": "text/x-python",
   "name": "python",
   "nbconvert_exporter": "python",
   "pygments_lexer": "ipython3",
   "version": "3.10.1"
  }
 },
 "nbformat": 4,
 "nbformat_minor": 5
}
